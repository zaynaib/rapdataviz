{
 "cells": [
  {
   "cell_type": "code",
   "execution_count": 6,
   "source": [
    "#import dependencies\r\n",
    "import os,sys\r\n",
    "import sys\r\n",
    "from PIL import Image"
   ],
   "outputs": [],
   "metadata": {}
  },
  {
   "cell_type": "code",
   "execution_count": 15,
   "source": [
    "def compressImages(fileName,newSize,path):\r\n",
    "    image = Image.open(f'{path}/{fileName}')\r\n",
    "    new_image = image.resize((newSize, newSize))\r\n",
    "    new_image.save(f'assets/images/{fileName}')\r\n"
   ],
   "outputs": [],
   "metadata": {}
  },
  {
   "cell_type": "code",
   "execution_count": 19,
   "source": [
    "path = \"assets/uncompress_images\"\r\n",
    "dirs = os.listdir(path)\r\n",
    "imgSize = 30"
   ],
   "outputs": [],
   "metadata": {}
  },
  {
   "cell_type": "code",
   "execution_count": 18,
   "source": [
    "for file in dirs:\r\n",
    "    compressImages(file,imgSize,path)"
   ],
   "outputs": [],
   "metadata": {}
  }
 ],
 "metadata": {
  "orig_nbformat": 4,
  "kernelspec": {
   "name": "python3",
   "display_name": "Python 3.6.9 64-bit ('venv': conda)"
  },
  "interpreter": {
   "hash": "1afe3eabab54e6780a673a5c710dcd9cb4f96c831fef05c3af8d9c057049dcf7"
  },
  "language_info": {
   "name": "python",
   "version": "3.7.5",
   "mimetype": "text/x-python",
   "codemirror_mode": {
    "name": "ipython",
    "version": 3
   },
   "pygments_lexer": "ipython3",
   "nbconvert_exporter": "python",
   "file_extension": ".py"
  }
 },
 "nbformat": 4,
 "nbformat_minor": 2
}